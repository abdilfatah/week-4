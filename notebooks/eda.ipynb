{
 "cells": [
  {
   "cell_type": "code",
   "execution_count": 1,
   "id": "955596b1",
   "metadata": {},
   "outputs": [],
   "source": [
    "import pandas as pd\n",
    "import numpy as np\n",
    "import matplotlib.pyplot as plt\n",
    "import seaborn as sns\n",
    "from datetime import datetime"
   ]
  },
  {
   "cell_type": "code",
   "execution_count": 2,
   "id": "26ca19fe",
   "metadata": {},
   "outputs": [],
   "source": [
    "df = pd.read_excel(\"C:/Users/Abdilfatah/Desktop/Data/BANKS_AD_DATA.xlsx\")"
   ]
  },
  {
   "cell_type": "code",
   "execution_count": 3,
   "id": "40808733",
   "metadata": {},
   "outputs": [
    {
     "data": {
      "text/html": [
       "<div>\n",
       "<style scoped>\n",
       "    .dataframe tbody tr th:only-of-type {\n",
       "        vertical-align: middle;\n",
       "    }\n",
       "\n",
       "    .dataframe tbody tr th {\n",
       "        vertical-align: top;\n",
       "    }\n",
       "\n",
       "    .dataframe thead th {\n",
       "        text-align: right;\n",
       "    }\n",
       "</style>\n",
       "<table border=\"1\" class=\"dataframe\">\n",
       "  <thead>\n",
       "    <tr style=\"text-align: right;\">\n",
       "      <th></th>\n",
       "      <th>Date</th>\n",
       "      <th>Post link</th>\n",
       "      <th>View</th>\n",
       "      <th>Post Hour</th>\n",
       "      <th>Bank</th>\n",
       "      <th>Time of day</th>\n",
       "    </tr>\n",
       "  </thead>\n",
       "  <tbody>\n",
       "    <tr>\n",
       "      <th>0</th>\n",
       "      <td>26/9/2023</td>\n",
       "      <td>https://t.me/tikvahethiopia/81734</td>\n",
       "      <td>239800</td>\n",
       "      <td>10:18:00</td>\n",
       "      <td>BOA</td>\n",
       "      <td>night</td>\n",
       "    </tr>\n",
       "    <tr>\n",
       "      <th>1</th>\n",
       "      <td>19/9/2023</td>\n",
       "      <td>https://t.me/tikvahethiopia/81606</td>\n",
       "      <td>258400</td>\n",
       "      <td>06:53:00</td>\n",
       "      <td>BOA</td>\n",
       "      <td>night</td>\n",
       "    </tr>\n",
       "    <tr>\n",
       "      <th>2</th>\n",
       "      <td>15/9/2023</td>\n",
       "      <td>https://t.me/tikvahethiopia/81502</td>\n",
       "      <td>269400</td>\n",
       "      <td>03:56:00</td>\n",
       "      <td>BOA</td>\n",
       "      <td>evening</td>\n",
       "    </tr>\n",
       "    <tr>\n",
       "      <th>3</th>\n",
       "      <td>2023-08-09 00:00:00</td>\n",
       "      <td>https://t.me/tikvahethiopia/81338</td>\n",
       "      <td>219400</td>\n",
       "      <td>10:50:00</td>\n",
       "      <td>BOA</td>\n",
       "      <td>afternoon</td>\n",
       "    </tr>\n",
       "    <tr>\n",
       "      <th>4</th>\n",
       "      <td>2023-05-09 00:00:00</td>\n",
       "      <td>https://t.me/tikvahethiopia/81252</td>\n",
       "      <td>255900</td>\n",
       "      <td>01:19:00</td>\n",
       "      <td>BOA</td>\n",
       "      <td>afternoon</td>\n",
       "    </tr>\n",
       "  </tbody>\n",
       "</table>\n",
       "</div>"
      ],
      "text/plain": [
       "                  Date                          Post link    View Post Hour  \\\n",
       "0            26/9/2023  https://t.me/tikvahethiopia/81734  239800  10:18:00   \n",
       "1            19/9/2023  https://t.me/tikvahethiopia/81606  258400  06:53:00   \n",
       "2            15/9/2023  https://t.me/tikvahethiopia/81502  269400  03:56:00   \n",
       "3  2023-08-09 00:00:00  https://t.me/tikvahethiopia/81338  219400  10:50:00   \n",
       "4  2023-05-09 00:00:00  https://t.me/tikvahethiopia/81252  255900  01:19:00   \n",
       "\n",
       "  Bank Time of day  \n",
       "0  BOA      night   \n",
       "1  BOA      night   \n",
       "2  BOA    evening   \n",
       "3  BOA   afternoon  \n",
       "4  BOA   afternoon  "
      ]
     },
     "execution_count": 3,
     "metadata": {},
     "output_type": "execute_result"
    }
   ],
   "source": [
    "df.head()"
   ]
  },
  {
   "cell_type": "code",
   "execution_count": 96,
   "id": "b79a8fcd",
   "metadata": {},
   "outputs": [],
   "source": [
    "df1 = pd.read_excel(\"C:/Users/Abdilfatah/Desktop/Data/Apollo android review data.xlsx\")"
   ]
  },
  {
   "cell_type": "code",
   "execution_count": 73,
   "id": "9d3f22ba",
   "metadata": {},
   "outputs": [
    {
     "data": {
      "text/html": [
       "<div>\n",
       "<style scoped>\n",
       "    .dataframe tbody tr th:only-of-type {\n",
       "        vertical-align: middle;\n",
       "    }\n",
       "\n",
       "    .dataframe tbody tr th {\n",
       "        vertical-align: top;\n",
       "    }\n",
       "\n",
       "    .dataframe thead th {\n",
       "        text-align: right;\n",
       "    }\n",
       "</style>\n",
       "<table border=\"1\" class=\"dataframe\">\n",
       "  <thead>\n",
       "    <tr style=\"text-align: right;\">\n",
       "      <th></th>\n",
       "      <th>reviewId</th>\n",
       "      <th>userName</th>\n",
       "      <th>userImage</th>\n",
       "      <th>👍</th>\n",
       "      <th>reviewCreatedVersion</th>\n",
       "      <th>at</th>\n",
       "      <th>replyContent</th>\n",
       "      <th>repliedAt</th>\n",
       "      <th>appVersion</th>\n",
       "      <th>score</th>\n",
       "      <th>Comments</th>\n",
       "      <th>Keywords</th>\n",
       "      <th>LDA_Category</th>\n",
       "      <th>Sentiment</th>\n",
       "      <th>Insight</th>\n",
       "    </tr>\n",
       "  </thead>\n",
       "  <tbody>\n",
       "    <tr>\n",
       "      <th>0</th>\n",
       "      <td>910fa3ea-29db-4e6d-972b-83a7ccf0b381</td>\n",
       "      <td>Abnet Hussien</td>\n",
       "      <td>https://play-lh.googleusercontent.com/a-/ALV-U...</td>\n",
       "      <td>0</td>\n",
       "      <td>23.10.24</td>\n",
       "      <td>2023-12-05 14:47:40</td>\n",
       "      <td>NaN</td>\n",
       "      <td>NaN</td>\n",
       "      <td>23.10.24</td>\n",
       "      <td>1</td>\n",
       "      <td>it fails proceeding after sending OTP for regi...</td>\n",
       "      <td>otp</td>\n",
       "      <td>Account and Identification Issues</td>\n",
       "      <td>Negative</td>\n",
       "      <td>Influential words: fails</td>\n",
       "    </tr>\n",
       "    <tr>\n",
       "      <th>1</th>\n",
       "      <td>1c92335c-20cf-4dc8-8108-40c5ca406669</td>\n",
       "      <td>Paul Flower</td>\n",
       "      <td>https://play-lh.googleusercontent.com/a-/ALV-U...</td>\n",
       "      <td>0</td>\n",
       "      <td>NaN</td>\n",
       "      <td>2023-12-05 13:45:23</td>\n",
       "      <td>NaN</td>\n",
       "      <td>NaN</td>\n",
       "      <td>NaN</td>\n",
       "      <td>4</td>\n",
       "      <td>I like all features of this app but, airtime t...</td>\n",
       "      <td>like</td>\n",
       "      <td>Operational Challenges within the App</td>\n",
       "      <td>Neutral</td>\n",
       "      <td>No significant influential words</td>\n",
       "    </tr>\n",
       "    <tr>\n",
       "      <th>2</th>\n",
       "      <td>1d9285f6-3570-43b1-b649-dfbffa671471</td>\n",
       "      <td>Fenkl Massawa (fenkl)</td>\n",
       "      <td>https://play-lh.googleusercontent.com/a-/ALV-U...</td>\n",
       "      <td>0</td>\n",
       "      <td>23.10.24</td>\n",
       "      <td>2023-12-05 12:41:48</td>\n",
       "      <td>NaN</td>\n",
       "      <td>NaN</td>\n",
       "      <td>23.10.24</td>\n",
       "      <td>5</td>\n",
       "      <td>I like this app</td>\n",
       "      <td>like</td>\n",
       "      <td>Operational Challenges within the App</td>\n",
       "      <td>Neutral</td>\n",
       "      <td>No significant influential words</td>\n",
       "    </tr>\n",
       "    <tr>\n",
       "      <th>3</th>\n",
       "      <td>26a50719-d3b5-4703-a942-5640e04d824a</td>\n",
       "      <td>Mula Boad</td>\n",
       "      <td>https://play-lh.googleusercontent.com/a-/ALV-U...</td>\n",
       "      <td>0</td>\n",
       "      <td>23.10.24</td>\n",
       "      <td>2023-12-05 11:55:36</td>\n",
       "      <td>NaN</td>\n",
       "      <td>NaN</td>\n",
       "      <td>23.10.24</td>\n",
       "      <td>5</td>\n",
       "      <td>Litterally i am well exprienced in social medi...</td>\n",
       "      <td>NaN</td>\n",
       "      <td>Functional Issues and User Experience</td>\n",
       "      <td>Neutral</td>\n",
       "      <td>Influential words: social, new</td>\n",
       "    </tr>\n",
       "    <tr>\n",
       "      <th>4</th>\n",
       "      <td>4f2712f8-4b7f-45e7-8afb-90556692a6b5</td>\n",
       "      <td>yegna gojo</td>\n",
       "      <td>https://play-lh.googleusercontent.com/a-/ALV-U...</td>\n",
       "      <td>0</td>\n",
       "      <td>23.10.24</td>\n",
       "      <td>2023-12-04 06:47:48</td>\n",
       "      <td>NaN</td>\n",
       "      <td>NaN</td>\n",
       "      <td>23.10.24</td>\n",
       "      <td>5</td>\n",
       "      <td>Good</td>\n",
       "      <td>good</td>\n",
       "      <td>Positive Feedback</td>\n",
       "      <td>Positive</td>\n",
       "      <td>Influential words: Good</td>\n",
       "    </tr>\n",
       "  </tbody>\n",
       "</table>\n",
       "</div>"
      ],
      "text/plain": [
       "                               reviewId               userName  \\\n",
       "0  910fa3ea-29db-4e6d-972b-83a7ccf0b381          Abnet Hussien   \n",
       "1  1c92335c-20cf-4dc8-8108-40c5ca406669            Paul Flower   \n",
       "2  1d9285f6-3570-43b1-b649-dfbffa671471  Fenkl Massawa (fenkl)   \n",
       "3  26a50719-d3b5-4703-a942-5640e04d824a              Mula Boad   \n",
       "4  4f2712f8-4b7f-45e7-8afb-90556692a6b5             yegna gojo   \n",
       "\n",
       "                                           userImage  👍 reviewCreatedVersion  \\\n",
       "0  https://play-lh.googleusercontent.com/a-/ALV-U...  0             23.10.24   \n",
       "1  https://play-lh.googleusercontent.com/a-/ALV-U...  0                  NaN   \n",
       "2  https://play-lh.googleusercontent.com/a-/ALV-U...  0             23.10.24   \n",
       "3  https://play-lh.googleusercontent.com/a-/ALV-U...  0             23.10.24   \n",
       "4  https://play-lh.googleusercontent.com/a-/ALV-U...  0             23.10.24   \n",
       "\n",
       "                   at  replyContent  repliedAt appVersion  score  \\\n",
       "0 2023-12-05 14:47:40           NaN        NaN   23.10.24      1   \n",
       "1 2023-12-05 13:45:23           NaN        NaN        NaN      4   \n",
       "2 2023-12-05 12:41:48           NaN        NaN   23.10.24      5   \n",
       "3 2023-12-05 11:55:36           NaN        NaN   23.10.24      5   \n",
       "4 2023-12-04 06:47:48           NaN        NaN   23.10.24      5   \n",
       "\n",
       "                                            Comments Keywords  \\\n",
       "0  it fails proceeding after sending OTP for regi...      otp   \n",
       "1  I like all features of this app but, airtime t...     like   \n",
       "2                                    I like this app     like   \n",
       "3  Litterally i am well exprienced in social medi...      NaN   \n",
       "4                                               Good     good   \n",
       "\n",
       "                            LDA_Category Sentiment  \\\n",
       "0      Account and Identification Issues  Negative   \n",
       "1  Operational Challenges within the App   Neutral   \n",
       "2  Operational Challenges within the App   Neutral   \n",
       "3  Functional Issues and User Experience   Neutral   \n",
       "4                      Positive Feedback  Positive   \n",
       "\n",
       "                            Insight  \n",
       "0          Influential words: fails  \n",
       "1  No significant influential words  \n",
       "2  No significant influential words  \n",
       "3    Influential words: social, new  \n",
       "4           Influential words: Good  "
      ]
     },
     "execution_count": 73,
     "metadata": {},
     "output_type": "execute_result"
    }
   ],
   "source": [
    "df1.head()"
   ]
  },
  {
   "cell_type": "code",
   "execution_count": 6,
   "id": "9f566eab",
   "metadata": {},
   "outputs": [],
   "source": [
    "color = sns.color_palette(\"Blues\")[4]"
   ]
  },
  {
   "cell_type": "code",
   "execution_count": 7,
   "id": "06025af3",
   "metadata": {},
   "outputs": [
    {
     "name": "stdout",
     "output_type": "stream",
     "text": [
      "<class 'pandas.core.frame.DataFrame'>\n",
      "RangeIndex: 21 entries, 0 to 20\n",
      "Data columns (total 6 columns):\n",
      " #   Column       Non-Null Count  Dtype \n",
      "---  ------       --------------  ----- \n",
      " 0   Date         21 non-null     object\n",
      " 1   Post link    21 non-null     object\n",
      " 2   View         21 non-null     int64 \n",
      " 3   Post Hour    21 non-null     object\n",
      " 4   Bank         21 non-null     object\n",
      " 5   Time of day  21 non-null     object\n",
      "dtypes: int64(1), object(5)\n",
      "memory usage: 1.1+ KB\n"
     ]
    }
   ],
   "source": [
    "df.info()"
   ]
  },
  {
   "cell_type": "code",
   "execution_count": 8,
   "id": "f04e467f",
   "metadata": {},
   "outputs": [
    {
     "data": {
      "text/html": [
       "<div>\n",
       "<style scoped>\n",
       "    .dataframe tbody tr th:only-of-type {\n",
       "        vertical-align: middle;\n",
       "    }\n",
       "\n",
       "    .dataframe tbody tr th {\n",
       "        vertical-align: top;\n",
       "    }\n",
       "\n",
       "    .dataframe thead th {\n",
       "        text-align: right;\n",
       "    }\n",
       "</style>\n",
       "<table border=\"1\" class=\"dataframe\">\n",
       "  <thead>\n",
       "    <tr style=\"text-align: right;\">\n",
       "      <th></th>\n",
       "      <th>View</th>\n",
       "    </tr>\n",
       "  </thead>\n",
       "  <tbody>\n",
       "    <tr>\n",
       "      <th>count</th>\n",
       "      <td>21.000000</td>\n",
       "    </tr>\n",
       "    <tr>\n",
       "      <th>mean</th>\n",
       "      <td>226880.952381</td>\n",
       "    </tr>\n",
       "    <tr>\n",
       "      <th>std</th>\n",
       "      <td>39312.524964</td>\n",
       "    </tr>\n",
       "    <tr>\n",
       "      <th>min</th>\n",
       "      <td>129400.000000</td>\n",
       "    </tr>\n",
       "    <tr>\n",
       "      <th>25%</th>\n",
       "      <td>212300.000000</td>\n",
       "    </tr>\n",
       "    <tr>\n",
       "      <th>50%</th>\n",
       "      <td>232100.000000</td>\n",
       "    </tr>\n",
       "    <tr>\n",
       "      <th>75%</th>\n",
       "      <td>255900.000000</td>\n",
       "    </tr>\n",
       "    <tr>\n",
       "      <th>max</th>\n",
       "      <td>299100.000000</td>\n",
       "    </tr>\n",
       "  </tbody>\n",
       "</table>\n",
       "</div>"
      ],
      "text/plain": [
       "                View\n",
       "count      21.000000\n",
       "mean   226880.952381\n",
       "std     39312.524964\n",
       "min    129400.000000\n",
       "25%    212300.000000\n",
       "50%    232100.000000\n",
       "75%    255900.000000\n",
       "max    299100.000000"
      ]
     },
     "execution_count": 8,
     "metadata": {},
     "output_type": "execute_result"
    }
   ],
   "source": [
    "df.describe()"
   ]
  },
  {
   "cell_type": "code",
   "execution_count": 9,
   "id": "e3ab7e30",
   "metadata": {},
   "outputs": [],
   "source": [
    "# Data Quality Check"
   ]
  },
  {
   "cell_type": "code",
   "execution_count": 10,
   "id": "bec7fac3",
   "metadata": {},
   "outputs": [
    {
     "name": "stdout",
     "output_type": "stream",
     "text": [
      "Number of missing values in column_name: Date           0\n",
      "Post link      0\n",
      "View           0\n",
      "Post Hour      0\n",
      "Bank           0\n",
      "Time of day    0\n",
      "dtype: int64\n"
     ]
    }
   ],
   "source": [
    "missing_values = df.isnull().sum()\n",
    "print(f\"Number of missing values in column_name: {missing_values}\")"
   ]
  },
  {
   "cell_type": "code",
   "execution_count": 11,
   "id": "91753360",
   "metadata": {},
   "outputs": [
    {
     "name": "stdout",
     "output_type": "stream",
     "text": [
      "Non-Unique Values:\n",
      "Empty DataFrame\n",
      "Columns: [Date, Post link, View, Post Hour, Bank, Time of day]\n",
      "Index: []\n"
     ]
    }
   ],
   "source": [
    "non_unique = df['Date'].duplicated()\n",
    "print(\"Non-Unique Values:\")\n",
    "print(df[non_unique])"
   ]
  },
  {
   "cell_type": "code",
   "execution_count": 12,
   "id": "119b8971",
   "metadata": {},
   "outputs": [
    {
     "data": {
      "text/html": [
       "<div>\n",
       "<style scoped>\n",
       "    .dataframe tbody tr th:only-of-type {\n",
       "        vertical-align: middle;\n",
       "    }\n",
       "\n",
       "    .dataframe tbody tr th {\n",
       "        vertical-align: top;\n",
       "    }\n",
       "\n",
       "    .dataframe thead th {\n",
       "        text-align: right;\n",
       "    }\n",
       "</style>\n",
       "<table border=\"1\" class=\"dataframe\">\n",
       "  <thead>\n",
       "    <tr style=\"text-align: right;\">\n",
       "      <th></th>\n",
       "      <th>col_name</th>\n",
       "      <th>col_dtype</th>\n",
       "      <th>num_of_nulls</th>\n",
       "      <th>num_of_non_nulls</th>\n",
       "      <th>num_of_distinct_values</th>\n",
       "      <th>distinct_values_counts</th>\n",
       "    </tr>\n",
       "  </thead>\n",
       "  <tbody>\n",
       "    <tr>\n",
       "      <th>0</th>\n",
       "      <td>Date</td>\n",
       "      <td>object</td>\n",
       "      <td>0</td>\n",
       "      <td>21</td>\n",
       "      <td>21</td>\n",
       "      <td>{'26/9/2023': 1, 2022-03-03 00:00:00: 1, 2018-...</td>\n",
       "    </tr>\n",
       "    <tr>\n",
       "      <th>1</th>\n",
       "      <td>Post link</td>\n",
       "      <td>object</td>\n",
       "      <td>0</td>\n",
       "      <td>21</td>\n",
       "      <td>21</td>\n",
       "      <td>{'https://t.me/tikvahethiopia/81734': 1, 'http...</td>\n",
       "    </tr>\n",
       "    <tr>\n",
       "      <th>2</th>\n",
       "      <td>View</td>\n",
       "      <td>int64</td>\n",
       "      <td>0</td>\n",
       "      <td>21</td>\n",
       "      <td>21</td>\n",
       "      <td>{239800: 1, 259400: 1, 170200: 1, 213300: 1, 2...</td>\n",
       "    </tr>\n",
       "    <tr>\n",
       "      <th>3</th>\n",
       "      <td>Post Hour</td>\n",
       "      <td>object</td>\n",
       "      <td>0</td>\n",
       "      <td>21</td>\n",
       "      <td>21</td>\n",
       "      <td>{10:18:00: 1, 05:30:00: 1, 07:47:00: 1, 04:57:...</td>\n",
       "    </tr>\n",
       "    <tr>\n",
       "      <th>4</th>\n",
       "      <td>Bank</td>\n",
       "      <td>object</td>\n",
       "      <td>0</td>\n",
       "      <td>21</td>\n",
       "      <td>1</td>\n",
       "      <td>{'BOA': 21}</td>\n",
       "    </tr>\n",
       "    <tr>\n",
       "      <th>5</th>\n",
       "      <td>Time of day</td>\n",
       "      <td>object</td>\n",
       "      <td>0</td>\n",
       "      <td>21</td>\n",
       "      <td>4</td>\n",
       "      <td>{'afternoon': 8, 'evening ': 7, 'night ': 3, '...</td>\n",
       "    </tr>\n",
       "  </tbody>\n",
       "</table>\n",
       "</div>"
      ],
      "text/plain": [
       "      col_name col_dtype  num_of_nulls  num_of_non_nulls  \\\n",
       "0         Date    object             0                21   \n",
       "1    Post link    object             0                21   \n",
       "2         View     int64             0                21   \n",
       "3    Post Hour    object             0                21   \n",
       "4         Bank    object             0                21   \n",
       "5  Time of day    object             0                21   \n",
       "\n",
       "   num_of_distinct_values                             distinct_values_counts  \n",
       "0                      21  {'26/9/2023': 1, 2022-03-03 00:00:00: 1, 2018-...  \n",
       "1                      21  {'https://t.me/tikvahethiopia/81734': 1, 'http...  \n",
       "2                      21  {239800: 1, 259400: 1, 170200: 1, 213300: 1, 2...  \n",
       "3                      21  {10:18:00: 1, 05:30:00: 1, 07:47:00: 1, 04:57:...  \n",
       "4                       1                                        {'BOA': 21}  \n",
       "5                       4  {'afternoon': 8, 'evening ': 7, 'night ': 3, '...  "
      ]
     },
     "metadata": {},
     "output_type": "display_data"
    }
   ],
   "source": [
    "def column_summary(df):\n",
    "    summary_data = []\n",
    "    \n",
    "    for col_name in df.columns:\n",
    "        col_dtype = df[col_name].dtype\n",
    "        num_of_nulls = df[col_name].isnull().sum()\n",
    "        num_of_non_nulls = df[col_name].notnull().sum()\n",
    "        num_of_distinct_values = df[col_name].nunique()\n",
    "        \n",
    "        if num_of_distinct_values <= 10:\n",
    "            distinct_values_counts = df[col_name].value_counts().to_dict()\n",
    "        else:\n",
    "            top_10_values_counts = df[col_name].value_counts().head(10).to_dict()\n",
    "            distinct_values_counts = {k: v for k, v in sorted(top_10_values_counts.items(), key=lambda item: item[1], reverse=True)}\n",
    "\n",
    "        summary_data.append({\n",
    "            'col_name': col_name,\n",
    "            'col_dtype': col_dtype,\n",
    "            'num_of_nulls': num_of_nulls,\n",
    "            'num_of_non_nulls': num_of_non_nulls,\n",
    "            'num_of_distinct_values': num_of_distinct_values,\n",
    "            'distinct_values_counts': distinct_values_counts\n",
    "        })\n",
    "    \n",
    "    summary_df = pd.DataFrame(summary_data)\n",
    "    return summary_df\n",
    "\n",
    "summary_df = column_summary(df)\n",
    "display(summary_df)"
   ]
  },
  {
   "cell_type": "code",
   "execution_count": 13,
   "id": "e31d1952",
   "metadata": {},
   "outputs": [
    {
     "name": "stderr",
     "output_type": "stream",
     "text": [
      "C:\\Users\\Abdilfatah\\anaconda3\\Lib\\site-packages\\seaborn\\_oldcore.py:1119: FutureWarning: use_inf_as_na option is deprecated and will be removed in a future version. Convert inf values to NaN before operating instead.\n",
      "  with pd.option_context('mode.use_inf_as_na', True):\n"
     ]
    },
    {
     "data": {
      "image/png": "[encoded data removed]",
      "text/plain": [
       "<Figure size 800x600 with 1 Axes>"
      ]
     },
     "metadata": {},
     "output_type": "display_data"
    }
   ],
   "source": [
    "numerical_columns = df.select_dtypes(include=[np.number]).columns\n",
    "\n",
    "for column in numerical_columns:\n",
    "    # For continuous variables\n",
    "    if len(df[column].unique()) > 10:  # Assuming if unique values > 10, consider it continuous\n",
    "        plt.figure(figsize=(8, 6))\n",
    "        sns.histplot(df[column], kde=True)\n",
    "        plt.title(f'Histogram of {column}')\n",
    "        plt.xlabel(column)\n",
    "        plt.ylabel('Frequency')\n",
    "        plt.show()\n",
    "    else:  # For discrete or ordinal variables\n",
    "        plt.figure(figsize=(8, 6))\n",
    "        ax = sns.countplot(x=column, data=df)\n",
    "        plt.title(f'Count of {column}')\n",
    "        plt.xlabel(column)\n",
    "        plt.ylabel('Count')\n",
    "        \n",
    "        # Annotate each bar with its count\n",
    "        for p in ax.patches:\n",
    "            ax.annotate(format(p.get_height(), '.0f'), \n",
    "                        (p.get_x() + p.get_width() / 2., p.get_height()), \n",
    "                        ha = 'center', va = 'center', \n",
    "                        xytext = (0, 5), \n",
    "                        textcoords = 'offset points')\n",
    "        plt.show()"
   ]
  },
  {
   "cell_type": "code",
   "execution_count": 14,
   "id": "442e86bc",
   "metadata": {},
   "outputs": [
    {
     "data": {
      "text/plain": [
       "Date           object\n",
       "Post link      object\n",
       "View            int64\n",
       "Post Hour      object\n",
       "Bank           object\n",
       "Time of day    object\n",
       "dtype: object"
      ]
     },
     "execution_count": 14,
     "metadata": {},
     "output_type": "execute_result"
    }
   ],
   "source": [
    "df.dtypes"
   ]
  },
  {
   "cell_type": "code",
   "execution_count": 15,
   "id": "b7e50e62",
   "metadata": {},
   "outputs": [
    {
     "name": "stderr",
     "output_type": "stream",
     "text": [
      "C:\\Users\\Abdilfatah\\AppData\\Local\\Temp\\ipykernel_13712\\2394721818.py:1: UserWarning: Parsing dates in %d/%m/%Y format when dayfirst=False (the default) was specified. Pass `dayfirst=True` or specify a format to silence this warning.\n",
      "  df['Date'] = pd.to_datetime(df['Date'])\n"
     ]
    }
   ],
   "source": [
    "df['Date'] = pd.to_datetime(df['Date'])"
   ]
  },
  {
   "cell_type": "code",
   "execution_count": 16,
   "id": "efbbacca",
   "metadata": {
    "scrolled": false
   },
   "outputs": [
    {
     "data": {
      "text/html": [
       "<div>\n",
       "<style scoped>\n",
       "    .dataframe tbody tr th:only-of-type {\n",
       "        vertical-align: middle;\n",
       "    }\n",
       "\n",
       "    .dataframe tbody tr th {\n",
       "        vertical-align: top;\n",
       "    }\n",
       "\n",
       "    .dataframe thead th {\n",
       "        text-align: right;\n",
       "    }\n",
       "</style>\n",
       "<table border=\"1\" class=\"dataframe\">\n",
       "  <thead>\n",
       "    <tr style=\"text-align: right;\">\n",
       "      <th></th>\n",
       "      <th>Date</th>\n",
       "      <th>Post link</th>\n",
       "      <th>View</th>\n",
       "      <th>Post Hour</th>\n",
       "      <th>Bank</th>\n",
       "      <th>Time of day</th>\n",
       "    </tr>\n",
       "  </thead>\n",
       "  <tbody>\n",
       "    <tr>\n",
       "      <th>0</th>\n",
       "      <td>2023-09-26</td>\n",
       "      <td>https://t.me/tikvahethiopia/81734</td>\n",
       "      <td>239800</td>\n",
       "      <td>10:18:00</td>\n",
       "      <td>BOA</td>\n",
       "      <td>night</td>\n",
       "    </tr>\n",
       "    <tr>\n",
       "      <th>1</th>\n",
       "      <td>2023-09-19</td>\n",
       "      <td>https://t.me/tikvahethiopia/81606</td>\n",
       "      <td>258400</td>\n",
       "      <td>06:53:00</td>\n",
       "      <td>BOA</td>\n",
       "      <td>night</td>\n",
       "    </tr>\n",
       "    <tr>\n",
       "      <th>2</th>\n",
       "      <td>2023-09-15</td>\n",
       "      <td>https://t.me/tikvahethiopia/81502</td>\n",
       "      <td>269400</td>\n",
       "      <td>03:56:00</td>\n",
       "      <td>BOA</td>\n",
       "      <td>evening</td>\n",
       "    </tr>\n",
       "    <tr>\n",
       "      <th>3</th>\n",
       "      <td>2023-08-09</td>\n",
       "      <td>https://t.me/tikvahethiopia/81338</td>\n",
       "      <td>219400</td>\n",
       "      <td>10:50:00</td>\n",
       "      <td>BOA</td>\n",
       "      <td>afternoon</td>\n",
       "    </tr>\n",
       "    <tr>\n",
       "      <th>4</th>\n",
       "      <td>2023-05-09</td>\n",
       "      <td>https://t.me/tikvahethiopia/81252</td>\n",
       "      <td>255900</td>\n",
       "      <td>01:19:00</td>\n",
       "      <td>BOA</td>\n",
       "      <td>afternoon</td>\n",
       "    </tr>\n",
       "    <tr>\n",
       "      <th>5</th>\n",
       "      <td>2023-01-09</td>\n",
       "      <td>https://t.me/tikvahethiopia/81165</td>\n",
       "      <td>259100</td>\n",
       "      <td>10:20:00</td>\n",
       "      <td>BOA</td>\n",
       "      <td>afternoon</td>\n",
       "    </tr>\n",
       "    <tr>\n",
       "      <th>6</th>\n",
       "      <td>2023-08-29</td>\n",
       "      <td>https://t.me/tikvahethiopia/81123</td>\n",
       "      <td>232100</td>\n",
       "      <td>09:02:00</td>\n",
       "      <td>BOA</td>\n",
       "      <td>afternoon</td>\n",
       "    </tr>\n",
       "    <tr>\n",
       "      <th>7</th>\n",
       "      <td>2023-05-03</td>\n",
       "      <td>https://t.me/tikvahethiopia/76814</td>\n",
       "      <td>244100</td>\n",
       "      <td>09:32:00</td>\n",
       "      <td>BOA</td>\n",
       "      <td>evening</td>\n",
       "    </tr>\n",
       "    <tr>\n",
       "      <th>8</th>\n",
       "      <td>2023-01-26</td>\n",
       "      <td>https://t.me/tikvahethiopia/76089</td>\n",
       "      <td>129400</td>\n",
       "      <td>09:49:00</td>\n",
       "      <td>BOA</td>\n",
       "      <td>night</td>\n",
       "    </tr>\n",
       "    <tr>\n",
       "      <th>9</th>\n",
       "      <td>2023-01-25</td>\n",
       "      <td>https://t.me/tikvahethiopia/76075</td>\n",
       "      <td>299100</td>\n",
       "      <td>11:38:00</td>\n",
       "      <td>BOA</td>\n",
       "      <td>evening</td>\n",
       "    </tr>\n",
       "    <tr>\n",
       "      <th>10</th>\n",
       "      <td>2022-03-17</td>\n",
       "      <td>https://t.me/tikvahethiopia/68651</td>\n",
       "      <td>249700</td>\n",
       "      <td>04:43:00</td>\n",
       "      <td>BOA</td>\n",
       "      <td>morning</td>\n",
       "    </tr>\n",
       "    <tr>\n",
       "      <th>11</th>\n",
       "      <td>2022-03-03</td>\n",
       "      <td>https://t.me/tikvahethiopia/68259</td>\n",
       "      <td>259400</td>\n",
       "      <td>05:30:00</td>\n",
       "      <td>BOA</td>\n",
       "      <td>afternoon</td>\n",
       "    </tr>\n",
       "    <tr>\n",
       "      <th>12</th>\n",
       "      <td>2022-02-24</td>\n",
       "      <td>https://t.me/tikvahethiopia/68037</td>\n",
       "      <td>245600</td>\n",
       "      <td>04:11:00</td>\n",
       "      <td>BOA</td>\n",
       "      <td>afternoon</td>\n",
       "    </tr>\n",
       "    <tr>\n",
       "      <th>13</th>\n",
       "      <td>2022-02-17</td>\n",
       "      <td>https://t.me/tikvahethiopia/67831</td>\n",
       "      <td>218400</td>\n",
       "      <td>02:23:00</td>\n",
       "      <td>BOA</td>\n",
       "      <td>evening</td>\n",
       "    </tr>\n",
       "    <tr>\n",
       "      <th>14</th>\n",
       "      <td>2022-03-02</td>\n",
       "      <td>https://t.me/tikvahethiopia/67371</td>\n",
       "      <td>212300</td>\n",
       "      <td>03:10:00</td>\n",
       "      <td>BOA</td>\n",
       "      <td>morning</td>\n",
       "    </tr>\n",
       "    <tr>\n",
       "      <th>15</th>\n",
       "      <td>2022-01-20</td>\n",
       "      <td>https://t.me/tikvahethiopia/66803</td>\n",
       "      <td>206900</td>\n",
       "      <td>04:21:00</td>\n",
       "      <td>BOA</td>\n",
       "      <td>evening</td>\n",
       "    </tr>\n",
       "    <tr>\n",
       "      <th>16</th>\n",
       "      <td>2021-12-30</td>\n",
       "      <td>https://t.me/tikvahethiopia/66171</td>\n",
       "      <td>207900</td>\n",
       "      <td>03:16:00</td>\n",
       "      <td>BOA</td>\n",
       "      <td>morning</td>\n",
       "    </tr>\n",
       "    <tr>\n",
       "      <th>17</th>\n",
       "      <td>2021-12-23</td>\n",
       "      <td>https://t.me/tikvahethiopia/65938</td>\n",
       "      <td>213700</td>\n",
       "      <td>03:13:00</td>\n",
       "      <td>BOA</td>\n",
       "      <td>evening</td>\n",
       "    </tr>\n",
       "    <tr>\n",
       "      <th>18</th>\n",
       "      <td>2021-12-16</td>\n",
       "      <td>https://t.me/tikvahethiopia/65688</td>\n",
       "      <td>213300</td>\n",
       "      <td>04:57:00</td>\n",
       "      <td>BOA</td>\n",
       "      <td>afternoon</td>\n",
       "    </tr>\n",
       "    <tr>\n",
       "      <th>19</th>\n",
       "      <td>2018-06-12</td>\n",
       "      <td>https://t.me/tikvahethiopia/5339</td>\n",
       "      <td>170200</td>\n",
       "      <td>07:47:00</td>\n",
       "      <td>BOA</td>\n",
       "      <td>evening</td>\n",
       "    </tr>\n",
       "    <tr>\n",
       "      <th>20</th>\n",
       "      <td>2018-05-23</td>\n",
       "      <td>https://t.me/tikvahethiopia/4722</td>\n",
       "      <td>160400</td>\n",
       "      <td>08:11:00</td>\n",
       "      <td>BOA</td>\n",
       "      <td>afternoon</td>\n",
       "    </tr>\n",
       "  </tbody>\n",
       "</table>\n",
       "</div>"
      ],
      "text/plain": [
       "         Date                          Post link    View Post Hour Bank  \\\n",
       "0  2023-09-26  https://t.me/tikvahethiopia/81734  239800  10:18:00  BOA   \n",
       "1  2023-09-19  https://t.me/tikvahethiopia/81606  258400  06:53:00  BOA   \n",
       "2  2023-09-15  https://t.me/tikvahethiopia/81502  269400  03:56:00  BOA   \n",
       "3  2023-08-09  https://t.me/tikvahethiopia/81338  219400  10:50:00  BOA   \n",
       "4  2023-05-09  https://t.me/tikvahethiopia/81252  255900  01:19:00  BOA   \n",
       "5  2023-01-09  https://t.me/tikvahethiopia/81165  259100  10:20:00  BOA   \n",
       "6  2023-08-29  https://t.me/tikvahethiopia/81123  232100  09:02:00  BOA   \n",
       "7  2023-05-03  https://t.me/tikvahethiopia/76814  244100  09:32:00  BOA   \n",
       "8  2023-01-26  https://t.me/tikvahethiopia/76089  129400  09:49:00  BOA   \n",
       "9  2023-01-25  https://t.me/tikvahethiopia/76075  299100  11:38:00  BOA   \n",
       "10 2022-03-17  https://t.me/tikvahethiopia/68651  249700  04:43:00  BOA   \n",
       "11 2022-03-03  https://t.me/tikvahethiopia/68259  259400  05:30:00  BOA   \n",
       "12 2022-02-24  https://t.me/tikvahethiopia/68037  245600  04:11:00  BOA   \n",
       "13 2022-02-17  https://t.me/tikvahethiopia/67831  218400  02:23:00  BOA   \n",
       "14 2022-03-02  https://t.me/tikvahethiopia/67371  212300  03:10:00  BOA   \n",
       "15 2022-01-20  https://t.me/tikvahethiopia/66803  206900  04:21:00  BOA   \n",
       "16 2021-12-30  https://t.me/tikvahethiopia/66171  207900  03:16:00  BOA   \n",
       "17 2021-12-23  https://t.me/tikvahethiopia/65938  213700  03:13:00  BOA   \n",
       "18 2021-12-16  https://t.me/tikvahethiopia/65688  213300  04:57:00  BOA   \n",
       "19 2018-06-12   https://t.me/tikvahethiopia/5339  170200  07:47:00  BOA   \n",
       "20 2018-05-23   https://t.me/tikvahethiopia/4722  160400  08:11:00  BOA   \n",
       "\n",
       "   Time of day  \n",
       "0       night   \n",
       "1       night   \n",
       "2     evening   \n",
       "3    afternoon  \n",
       "4    afternoon  \n",
       "5    afternoon  \n",
       "6    afternoon  \n",
       "7     evening   \n",
       "8       night   \n",
       "9     evening   \n",
       "10     morning  \n",
       "11   afternoon  \n",
       "12   afternoon  \n",
       "13    evening   \n",
       "14     morning  \n",
       "15    evening   \n",
       "16     morning  \n",
       "17    evening   \n",
       "18   afternoon  \n",
       "19    evening   \n",
       "20   afternoon  "
      ]
     },
     "execution_count": 16,
     "metadata": {},
     "output_type": "execute_result"
    }
   ],
   "source": [
    "df"
   ]
  },
  {
   "cell_type": "code",
   "execution_count": 17,
   "id": "f662014f",
   "metadata": {
    "scrolled": false
   },
   "outputs": [
    {
     "data": {
      "image/png": "[encoded data removed]",
      "text/plain": [
       "<Figure size 640x480 with 1 Axes>"
      ]
     },
     "metadata": {},
     "output_type": "display_data"
    }
   ],
   "source": [
    "sns.scatterplot(x='Time of day', y='View', data=df)\n",
    "plt.xlabel('Time oF The Day')\n",
    "plt.ylabel('Views')\n",
    "plt.title('Impact of Time of The Day on Views')\n",
    "plt.show()"
   ]
  },
  {
   "cell_type": "code",
   "execution_count": 18,
   "id": "6e85ec89",
   "metadata": {},
   "outputs": [],
   "source": [
    "df['Post Hour'] = df['Post Hour'].apply(lambda x: x.strftime('%I:%M %p'))"
   ]
  },
  {
   "cell_type": "code",
   "execution_count": 19,
   "id": "29bda15f",
   "metadata": {},
   "outputs": [],
   "source": [
    "def convert_to_hours(time_str):\n",
    "    dt = datetime.strptime(time_str, '%I:%M %p')\n",
    "    return dt.hour + dt.minute / 60\n",
    "\n",
    "df['Post Hour'] = df['Post Hour'].apply(convert_to_hours)"
   ]
  },
  {
   "cell_type": "code",
   "execution_count": 20,
   "id": "f8bb9bfa",
   "metadata": {},
   "outputs": [
    {
     "data": {
      "image/png": "[encoded data removed]",
      "text/plain": [
       "<Figure size 640x480 with 1 Axes>"
      ]
     },
     "metadata": {},
     "output_type": "display_data"
    }
   ],
   "source": [
    "sns.scatterplot(x='Post Hour', y='View', data=df)\n",
    "plt.xlabel('Post Hour')\n",
    "plt.ylabel('Views')\n",
    "plt.title('Impact of Time Post Hour on Views')\n",
    "plt.show()"
   ]
  },
  {
   "cell_type": "code",
   "execution_count": 21,
   "id": "1632ca3a",
   "metadata": {},
   "outputs": [],
   "source": [
    "#Bivariate and Univariate Analaysis"
   ]
  },
  {
   "cell_type": "code",
   "execution_count": 22,
   "id": "249b66ff",
   "metadata": {},
   "outputs": [
    {
     "name": "stderr",
     "output_type": "stream",
     "text": [
      "C:\\Users\\Abdilfatah\\anaconda3\\Lib\\site-packages\\seaborn\\_oldcore.py:1119: FutureWarning: use_inf_as_na option is deprecated and will be removed in a future version. Convert inf values to NaN before operating instead.\n",
      "  with pd.option_context('mode.use_inf_as_na', True):\n"
     ]
    },
    {
     "data": {
      "text/plain": [
       "<Axes: xlabel='Time of day', ylabel='Count'>"
      ]
     },
     "execution_count": 22,
     "metadata": {},
     "output_type": "execute_result"
    },
    {
     "data": {
      "image/png": "[encoded data removed]",
      "text/plain": [
       "<Figure size 640x480 with 1 Axes>"
      ]
     },
     "metadata": {},
     "output_type": "display_data"
    }
   ],
   "source": [
    "sns.histplot(df['Time of day'])\n"
   ]
  },
  {
   "cell_type": "code",
   "execution_count": 23,
   "id": "abd2c167",
   "metadata": {},
   "outputs": [
    {
     "name": "stderr",
     "output_type": "stream",
     "text": [
      "C:\\Users\\Abdilfatah\\anaconda3\\Lib\\site-packages\\seaborn\\_oldcore.py:1119: FutureWarning: use_inf_as_na option is deprecated and will be removed in a future version. Convert inf values to NaN before operating instead.\n",
      "  with pd.option_context('mode.use_inf_as_na', True):\n"
     ]
    },
    {
     "data": {
      "text/plain": [
       "<Axes: xlabel='Bank', ylabel='Count'>"
      ]
     },
     "execution_count": 23,
     "metadata": {},
     "output_type": "execute_result"
    },
    {
     "data": {
      "image/png": "[encoded data removed]",
      "text/plain": [
       "<Figure size 640x480 with 1 Axes>"
      ]
     },
     "metadata": {},
     "output_type": "display_data"
    }
   ],
   "source": [
    "sns.histplot(df['Bank'])"
   ]
  },
  {
   "cell_type": "code",
   "execution_count": 24,
   "id": "eaee38f9",
   "metadata": {},
   "outputs": [
    {
     "name": "stderr",
     "output_type": "stream",
     "text": [
      "C:\\Users\\Abdilfatah\\anaconda3\\Lib\\site-packages\\seaborn\\_oldcore.py:1119: FutureWarning: use_inf_as_na option is deprecated and will be removed in a future version. Convert inf values to NaN before operating instead.\n",
      "  with pd.option_context('mode.use_inf_as_na', True):\n"
     ]
    },
    {
     "data": {
      "text/plain": [
       "<Axes: xlabel='Date', ylabel='Count'>"
      ]
     },
     "execution_count": 24,
     "metadata": {},
     "output_type": "execute_result"
    },
    {
     "data": {
      "image/png": "[encoded data removed]",
      "text/plain": [
       "<Figure size 640x480 with 1 Axes>"
      ]
     },
     "metadata": {},
     "output_type": "display_data"
    }
   ],
   "source": [
    "sns.histplot(df['Date'])\n"
   ]
  },
  {
   "cell_type": "code",
   "execution_count": 25,
   "id": "5d6d4337",
   "metadata": {},
   "outputs": [
    {
     "data": {
      "text/plain": [
       "<Axes: ylabel='count'>"
      ]
     },
     "execution_count": 25,
     "metadata": {},
     "output_type": "execute_result"
    },
    {
     "data": {
      "image/png": "[encoded data removed]",
      "text/plain": [
       "<Figure size 640x480 with 1 Axes>"
      ]
     },
     "metadata": {},
     "output_type": "display_data"
    }
   ],
   "source": [
    "sns.countplot(df['View'])\n"
   ]
  },
  {
   "cell_type": "code",
   "execution_count": 26,
   "id": "0a386007",
   "metadata": {},
   "outputs": [
    {
     "data": {
      "image/png": "[encoded data removed]",
      "text/plain": [
       "<Figure size 640x480 with 1 Axes>"
      ]
     },
     "metadata": {},
     "output_type": "display_data"
    }
   ],
   "source": [
    "\n",
    "x = df['Time of day'].value_counts() \n",
    "plt.pie(x.values, \n",
    "        labels=x.index, \n",
    "        autopct='%1.1f%%') \n",
    "plt.show() "
   ]
  },
  {
   "cell_type": "code",
   "execution_count": 27,
   "id": "30b5dce9",
   "metadata": {},
   "outputs": [
    {
     "data": {
      "text/plain": [
       "<Axes: xlabel='View', ylabel='Time of day'>"
      ]
     },
     "execution_count": 27,
     "metadata": {},
     "output_type": "execute_result"
    },
    {
     "data": {
      "image/png": "[encoded data removed]",
      "text/plain": [
       "<Figure size 640x480 with 1 Axes>"
      ]
     },
     "metadata": {},
     "output_type": "display_data"
    }
   ],
   "source": [
    "sns.scatterplot(x=df['View'], \n",
    "                y=df['Time of day']) "
   ]
  },
  {
   "cell_type": "code",
   "execution_count": 28,
   "id": "f49153ee",
   "metadata": {},
   "outputs": [
    {
     "data": {
      "text/plain": [
       "<Axes: >"
      ]
     },
     "execution_count": 28,
     "metadata": {},
     "output_type": "execute_result"
    },
    {
     "data": {
      "image/png": "[encoded data removed]",
      "text/plain": [
       "<Figure size 640x480 with 1 Axes>"
      ]
     },
     "metadata": {},
     "output_type": "display_data"
    }
   ],
   "source": [
    "from sklearn import datasets, decomposition \n",
    "iris = datasets.load_iris() \n",
    "X = iris.data \n",
    "y = iris.target \n",
    "pca = decomposition.PCA(n_components=2) \n",
    "X = pca.fit_transform(X) \n",
    "sns.scatterplot(x=X[:, 0], y=X[:, 1], hue=y) "
   ]
  },
  {
   "cell_type": "code",
   "execution_count": 29,
   "id": "57479324",
   "metadata": {},
   "outputs": [],
   "source": [
    "#Time Series Data Analysis and Data comparison"
   ]
  },
  {
   "cell_type": "code",
   "execution_count": 30,
   "id": "53ad7a9d",
   "metadata": {},
   "outputs": [
    {
     "data": {
      "text/plain": [
       "<Axes: >"
      ]
     },
     "execution_count": 30,
     "metadata": {},
     "output_type": "execute_result"
    },
    {
     "data": {
      "image/png": "[encoded data removed]",
      "text/plain": [
       "<Figure size 1100x400 with 1 Axes>"
      ]
     },
     "metadata": {},
     "output_type": "display_data"
    }
   ],
   "source": [
    "sns.set(rc={'figure.figsize':(11, 4)})\n",
    "df['Date'].plot(linewidth=0.5)"
   ]
  },
  {
   "cell_type": "code",
   "execution_count": 31,
   "id": "767daf59",
   "metadata": {},
   "outputs": [
    {
     "data": {
      "image/png": "[encoded data removed]",
      "text/plain": [
       "<Figure size 1100x900 with 2 Axes>"
      ]
     },
     "metadata": {},
     "output_type": "display_data"
    }
   ],
   "source": [
    "cols_plot = ['Date', 'Time of day', 'View']\n",
    "axes = df[cols_plot].plot(marker='.', alpha=0.5, linestyle='None', figsize=(11, 9), subplots=True)\n",
    "for ax in axes:\n",
    "    ax.set_ylabel('Daily Totals')"
   ]
  },
  {
   "cell_type": "code",
   "execution_count": 32,
   "id": "f8a17bd9",
   "metadata": {},
   "outputs": [],
   "source": [
    "#Correlation between different datasets "
   ]
  },
  {
   "cell_type": "code",
   "execution_count": 71,
   "id": "0b654f6b",
   "metadata": {},
   "outputs": [
    {
     "name": "stdout",
     "output_type": "stream",
     "text": [
      "<class 'pandas.core.frame.DataFrame'>\n",
      "RangeIndex: 100 entries, 0 to 99\n",
      "Data columns (total 13 columns):\n",
      " #   Column                Non-Null Count  Dtype         \n",
      "---  ------                --------------  -----         \n",
      " 0   reviewId              100 non-null    object        \n",
      " 1   userName              100 non-null    object        \n",
      " 2   userImage             100 non-null    object        \n",
      " 3   👍                     100 non-null    int64         \n",
      " 4   reviewCreatedVersion  100 non-null    object        \n",
      " 5   at                    100 non-null    datetime64[ns]\n",
      " 6   appVersion            100 non-null    object        \n",
      " 7   score                 100 non-null    int64         \n",
      " 8   Comments              100 non-null    object        \n",
      " 9   Keywords              100 non-null    object        \n",
      " 10  LDA_Category          100 non-null    object        \n",
      " 11  Sentiment             100 non-null    object        \n",
      " 12  Insight               100 non-null    object        \n",
      "dtypes: datetime64[ns](1), int64(2), object(10)\n",
      "memory usage: 10.3+ KB\n"
     ]
    }
   ],
   "source": [
    "df1.info()"
   ]
  },
  {
   "cell_type": "code",
   "execution_count": 70,
   "id": "d6fdb200",
   "metadata": {
    "scrolled": true
   },
   "outputs": [
    {
     "data": {
      "text/html": [
       "<div>\n",
       "<style scoped>\n",
       "    .dataframe tbody tr th:only-of-type {\n",
       "        vertical-align: middle;\n",
       "    }\n",
       "\n",
       "    .dataframe tbody tr th {\n",
       "        vertical-align: top;\n",
       "    }\n",
       "\n",
       "    .dataframe thead th {\n",
       "        text-align: right;\n",
       "    }\n",
       "</style>\n",
       "<table border=\"1\" class=\"dataframe\">\n",
       "  <thead>\n",
       "    <tr style=\"text-align: right;\">\n",
       "      <th></th>\n",
       "      <th>👍</th>\n",
       "      <th>at</th>\n",
       "      <th>score</th>\n",
       "    </tr>\n",
       "  </thead>\n",
       "  <tbody>\n",
       "    <tr>\n",
       "      <th>count</th>\n",
       "      <td>100.000000</td>\n",
       "      <td>100</td>\n",
       "      <td>100.000000</td>\n",
       "    </tr>\n",
       "    <tr>\n",
       "      <th>mean</th>\n",
       "      <td>9.160000</td>\n",
       "      <td>2023-11-09 06:06:40.990000128</td>\n",
       "      <td>3.530000</td>\n",
       "    </tr>\n",
       "    <tr>\n",
       "      <th>min</th>\n",
       "      <td>0.000000</td>\n",
       "      <td>2023-10-09 10:44:00</td>\n",
       "      <td>1.000000</td>\n",
       "    </tr>\n",
       "    <tr>\n",
       "      <th>25%</th>\n",
       "      <td>0.000000</td>\n",
       "      <td>2023-10-25 18:18:54.750000128</td>\n",
       "      <td>1.750000</td>\n",
       "    </tr>\n",
       "    <tr>\n",
       "      <th>50%</th>\n",
       "      <td>0.000000</td>\n",
       "      <td>2023-11-09 18:23:58</td>\n",
       "      <td>5.000000</td>\n",
       "    </tr>\n",
       "    <tr>\n",
       "      <th>75%</th>\n",
       "      <td>1.000000</td>\n",
       "      <td>2023-11-25 15:13:10.249999872</td>\n",
       "      <td>5.000000</td>\n",
       "    </tr>\n",
       "    <tr>\n",
       "      <th>max</th>\n",
       "      <td>374.000000</td>\n",
       "      <td>2023-12-05 14:47:40</td>\n",
       "      <td>5.000000</td>\n",
       "    </tr>\n",
       "    <tr>\n",
       "      <th>std</th>\n",
       "      <td>45.394504</td>\n",
       "      <td>NaN</td>\n",
       "      <td>1.720083</td>\n",
       "    </tr>\n",
       "  </tbody>\n",
       "</table>\n",
       "</div>"
      ],
      "text/plain": [
       "                👍                             at       score\n",
       "count  100.000000                            100  100.000000\n",
       "mean     9.160000  2023-11-09 06:06:40.990000128    3.530000\n",
       "min      0.000000            2023-10-09 10:44:00    1.000000\n",
       "25%      0.000000  2023-10-25 18:18:54.750000128    1.750000\n",
       "50%      0.000000            2023-11-09 18:23:58    5.000000\n",
       "75%      1.000000  2023-11-25 15:13:10.249999872    5.000000\n",
       "max    374.000000            2023-12-05 14:47:40    5.000000\n",
       "std     45.394504                            NaN    1.720083"
      ]
     },
     "execution_count": 70,
     "metadata": {},
     "output_type": "execute_result"
    }
   ],
   "source": [
    "df1.describe()"
   ]
  },
  {
   "cell_type": "code",
   "execution_count": 35,
   "id": "71d7c2f9",
   "metadata": {},
   "outputs": [
    {
     "data": {
      "text/html": [
       "<div>\n",
       "<style scoped>\n",
       "    .dataframe tbody tr th:only-of-type {\n",
       "        vertical-align: middle;\n",
       "    }\n",
       "\n",
       "    .dataframe tbody tr th {\n",
       "        vertical-align: top;\n",
       "    }\n",
       "\n",
       "    .dataframe thead th {\n",
       "        text-align: right;\n",
       "    }\n",
       "</style>\n",
       "<table border=\"1\" class=\"dataframe\">\n",
       "  <thead>\n",
       "    <tr style=\"text-align: right;\">\n",
       "      <th></th>\n",
       "      <th>col_name</th>\n",
       "      <th>col_dtype</th>\n",
       "      <th>num_of_nulls</th>\n",
       "      <th>num_of_non_nulls</th>\n",
       "      <th>num_of_distinct_values</th>\n",
       "      <th>distinct_values_counts</th>\n",
       "    </tr>\n",
       "  </thead>\n",
       "  <tbody>\n",
       "    <tr>\n",
       "      <th>0</th>\n",
       "      <td>reviewId</td>\n",
       "      <td>object</td>\n",
       "      <td>0</td>\n",
       "      <td>100</td>\n",
       "      <td>100</td>\n",
       "      <td>{'910fa3ea-29db-4e6d-972b-83a7ccf0b381': 1, 'f...</td>\n",
       "    </tr>\n",
       "    <tr>\n",
       "      <th>1</th>\n",
       "      <td>userName</td>\n",
       "      <td>object</td>\n",
       "      <td>0</td>\n",
       "      <td>100</td>\n",
       "      <td>100</td>\n",
       "      <td>{'Abnet Hussien': 1, 'noah abe': 1, 'Zita Zita...</td>\n",
       "    </tr>\n",
       "    <tr>\n",
       "      <th>2</th>\n",
       "      <td>userImage</td>\n",
       "      <td>object</td>\n",
       "      <td>0</td>\n",
       "      <td>100</td>\n",
       "      <td>100</td>\n",
       "      <td>{'https://play-lh.googleusercontent.com/a-/ALV...</td>\n",
       "    </tr>\n",
       "    <tr>\n",
       "      <th>3</th>\n",
       "      <td>👍</td>\n",
       "      <td>int64</td>\n",
       "      <td>0</td>\n",
       "      <td>100</td>\n",
       "      <td>12</td>\n",
       "      <td>{0: 70, 1: 13, 3: 4, 2: 3, 5: 3, 43: 1, 39: 1,...</td>\n",
       "    </tr>\n",
       "    <tr>\n",
       "      <th>4</th>\n",
       "      <td>reviewCreatedVersion</td>\n",
       "      <td>object</td>\n",
       "      <td>28</td>\n",
       "      <td>72</td>\n",
       "      <td>6</td>\n",
       "      <td>{'23.10.24': 43, '23.09.23': 21, '23.08.03': 4...</td>\n",
       "    </tr>\n",
       "    <tr>\n",
       "      <th>5</th>\n",
       "      <td>at</td>\n",
       "      <td>datetime64[ns]</td>\n",
       "      <td>0</td>\n",
       "      <td>100</td>\n",
       "      <td>100</td>\n",
       "      <td>{2023-12-05 14:47:40: 1, 2023-11-05 01:24:22: ...</td>\n",
       "    </tr>\n",
       "    <tr>\n",
       "      <th>6</th>\n",
       "      <td>replyContent</td>\n",
       "      <td>float64</td>\n",
       "      <td>100</td>\n",
       "      <td>0</td>\n",
       "      <td>0</td>\n",
       "      <td>{}</td>\n",
       "    </tr>\n",
       "    <tr>\n",
       "      <th>7</th>\n",
       "      <td>repliedAt</td>\n",
       "      <td>float64</td>\n",
       "      <td>100</td>\n",
       "      <td>0</td>\n",
       "      <td>0</td>\n",
       "      <td>{}</td>\n",
       "    </tr>\n",
       "    <tr>\n",
       "      <th>8</th>\n",
       "      <td>appVersion</td>\n",
       "      <td>object</td>\n",
       "      <td>28</td>\n",
       "      <td>72</td>\n",
       "      <td>6</td>\n",
       "      <td>{'23.10.24': 43, '23.09.23': 21, '23.08.03': 4...</td>\n",
       "    </tr>\n",
       "    <tr>\n",
       "      <th>9</th>\n",
       "      <td>score</td>\n",
       "      <td>int64</td>\n",
       "      <td>0</td>\n",
       "      <td>100</td>\n",
       "      <td>5</td>\n",
       "      <td>{5: 51, 1: 25, 4: 9, 2: 8, 3: 7}</td>\n",
       "    </tr>\n",
       "    <tr>\n",
       "      <th>10</th>\n",
       "      <td>Comments</td>\n",
       "      <td>object</td>\n",
       "      <td>0</td>\n",
       "      <td>100</td>\n",
       "      <td>92</td>\n",
       "      <td>{'Good': 4, 'Very good': 2, 'I like this app':...</td>\n",
       "    </tr>\n",
       "    <tr>\n",
       "      <th>11</th>\n",
       "      <td>Keywords</td>\n",
       "      <td>object</td>\n",
       "      <td>50</td>\n",
       "      <td>50</td>\n",
       "      <td>21</td>\n",
       "      <td>{'good': 16, 'best': 8, 'like': 5, 'account': ...</td>\n",
       "    </tr>\n",
       "    <tr>\n",
       "      <th>12</th>\n",
       "      <td>LDA_Category</td>\n",
       "      <td>object</td>\n",
       "      <td>0</td>\n",
       "      <td>100</td>\n",
       "      <td>6</td>\n",
       "      <td>{'Functional Issues and User Experience': 33, ...</td>\n",
       "    </tr>\n",
       "    <tr>\n",
       "      <th>13</th>\n",
       "      <td>Sentiment</td>\n",
       "      <td>object</td>\n",
       "      <td>0</td>\n",
       "      <td>100</td>\n",
       "      <td>3</td>\n",
       "      <td>{'Neutral': 44, 'Positive': 43, 'Negative': 13}</td>\n",
       "    </tr>\n",
       "    <tr>\n",
       "      <th>14</th>\n",
       "      <td>Insight</td>\n",
       "      <td>object</td>\n",
       "      <td>0</td>\n",
       "      <td>100</td>\n",
       "      <td>44</td>\n",
       "      <td>{'No significant influential words': 37, 'Infl...</td>\n",
       "    </tr>\n",
       "  </tbody>\n",
       "</table>\n",
       "</div>"
      ],
      "text/plain": [
       "                col_name       col_dtype  num_of_nulls  num_of_non_nulls  \\\n",
       "0               reviewId          object             0               100   \n",
       "1               userName          object             0               100   \n",
       "2              userImage          object             0               100   \n",
       "3                      👍           int64             0               100   \n",
       "4   reviewCreatedVersion          object            28                72   \n",
       "5                     at  datetime64[ns]             0               100   \n",
       "6           replyContent         float64           100                 0   \n",
       "7              repliedAt         float64           100                 0   \n",
       "8             appVersion          object            28                72   \n",
       "9                  score           int64             0               100   \n",
       "10              Comments          object             0               100   \n",
       "11              Keywords          object            50                50   \n",
       "12          LDA_Category          object             0               100   \n",
       "13             Sentiment          object             0               100   \n",
       "14               Insight          object             0               100   \n",
       "\n",
       "    num_of_distinct_values                             distinct_values_counts  \n",
       "0                      100  {'910fa3ea-29db-4e6d-972b-83a7ccf0b381': 1, 'f...  \n",
       "1                      100  {'Abnet Hussien': 1, 'noah abe': 1, 'Zita Zita...  \n",
       "2                      100  {'https://play-lh.googleusercontent.com/a-/ALV...  \n",
       "3                       12  {0: 70, 1: 13, 3: 4, 2: 3, 5: 3, 43: 1, 39: 1,...  \n",
       "4                        6  {'23.10.24': 43, '23.09.23': 21, '23.08.03': 4...  \n",
       "5                      100  {2023-12-05 14:47:40: 1, 2023-11-05 01:24:22: ...  \n",
       "6                        0                                                 {}  \n",
       "7                        0                                                 {}  \n",
       "8                        6  {'23.10.24': 43, '23.09.23': 21, '23.08.03': 4...  \n",
       "9                        5                   {5: 51, 1: 25, 4: 9, 2: 8, 3: 7}  \n",
       "10                      92  {'Good': 4, 'Very good': 2, 'I like this app':...  \n",
       "11                      21  {'good': 16, 'best': 8, 'like': 5, 'account': ...  \n",
       "12                       6  {'Functional Issues and User Experience': 33, ...  \n",
       "13                       3    {'Neutral': 44, 'Positive': 43, 'Negative': 13}  \n",
       "14                      44  {'No significant influential words': 37, 'Infl...  "
      ]
     },
     "metadata": {},
     "output_type": "display_data"
    }
   ],
   "source": [
    "def column_summary(df1):\n",
    "    summary_data = []\n",
    "    \n",
    "    for col_name in df1.columns:\n",
    "        col_dtype = df1[col_name].dtype\n",
    "        num_of_nulls = df1[col_name].isnull().sum()\n",
    "        num_of_non_nulls = df1[col_name].notnull().sum()\n",
    "        num_of_distinct_values = df1[col_name].nunique()\n",
    "        \n",
    "        if num_of_distinct_values <= 10:\n",
    "            distinct_values_counts = df1[col_name].value_counts().to_dict()\n",
    "        else:\n",
    "            top_10_values_counts = df1[col_name].value_counts().head(10).to_dict()\n",
    "            distinct_values_counts = {k: v for k, v in sorted(top_10_values_counts.items(), key=lambda item: item[1], reverse=True)}\n",
    "\n",
    "        summary_data.append({\n",
    "            'col_name': col_name,\n",
    "            'col_dtype': col_dtype,\n",
    "            'num_of_nulls': num_of_nulls,\n",
    "            'num_of_non_nulls': num_of_non_nulls,\n",
    "            'num_of_distinct_values': num_of_distinct_values,\n",
    "            'distinct_values_counts': distinct_values_counts\n",
    "        })\n",
    "    \n",
    "    summary_df = pd.DataFrame(summary_data)\n",
    "    return summary_df\n",
    "\n",
    "summary_df = column_summary(df1)\n",
    "display(summary_df)"
   ]
  },
  {
   "cell_type": "code",
   "execution_count": 36,
   "id": "a9eef51f",
   "metadata": {},
   "outputs": [],
   "source": [
    "# We Need to clean data since it has multiple columns which have more than 50% null values."
   ]
  },
  {
   "cell_type": "code",
   "execution_count": 98,
   "id": "c03125c3",
   "metadata": {},
   "outputs": [],
   "source": [
    "# delete rows which are mainly empty\n",
    "to_drop = ['replyContent', 'repliedAt']\n",
    "df1.drop(to_drop, inplace=True, axis=1)"
   ]
  },
  {
   "cell_type": "code",
   "execution_count": 75,
   "id": "2d9167a7",
   "metadata": {},
   "outputs": [
    {
     "data": {
      "text/html": [
       "<div>\n",
       "<style scoped>\n",
       "    .dataframe tbody tr th:only-of-type {\n",
       "        vertical-align: middle;\n",
       "    }\n",
       "\n",
       "    .dataframe tbody tr th {\n",
       "        vertical-align: top;\n",
       "    }\n",
       "\n",
       "    .dataframe thead th {\n",
       "        text-align: right;\n",
       "    }\n",
       "</style>\n",
       "<table border=\"1\" class=\"dataframe\">\n",
       "  <thead>\n",
       "    <tr style=\"text-align: right;\">\n",
       "      <th></th>\n",
       "      <th>reviewId</th>\n",
       "      <th>userName</th>\n",
       "      <th>userImage</th>\n",
       "      <th>👍</th>\n",
       "      <th>reviewCreatedVersion</th>\n",
       "      <th>at</th>\n",
       "      <th>appVersion</th>\n",
       "      <th>score</th>\n",
       "      <th>Comments</th>\n",
       "      <th>Keywords</th>\n",
       "      <th>LDA_Category</th>\n",
       "      <th>Sentiment</th>\n",
       "      <th>Insight</th>\n",
       "    </tr>\n",
       "  </thead>\n",
       "  <tbody>\n",
       "    <tr>\n",
       "      <th>0</th>\n",
       "      <td>910fa3ea-29db-4e6d-972b-83a7ccf0b381</td>\n",
       "      <td>Abnet Hussien</td>\n",
       "      <td>https://play-lh.googleusercontent.com/a-/ALV-U...</td>\n",
       "      <td>0</td>\n",
       "      <td>23.10.24</td>\n",
       "      <td>2023-12-05 14:47:40</td>\n",
       "      <td>23.10.24</td>\n",
       "      <td>1</td>\n",
       "      <td>it fails proceeding after sending OTP for regi...</td>\n",
       "      <td>otp</td>\n",
       "      <td>Account and Identification Issues</td>\n",
       "      <td>Negative</td>\n",
       "      <td>Influential words: fails</td>\n",
       "    </tr>\n",
       "    <tr>\n",
       "      <th>1</th>\n",
       "      <td>1c92335c-20cf-4dc8-8108-40c5ca406669</td>\n",
       "      <td>Paul Flower</td>\n",
       "      <td>https://play-lh.googleusercontent.com/a-/ALV-U...</td>\n",
       "      <td>0</td>\n",
       "      <td>NaN</td>\n",
       "      <td>2023-12-05 13:45:23</td>\n",
       "      <td>NaN</td>\n",
       "      <td>4</td>\n",
       "      <td>I like all features of this app but, airtime t...</td>\n",
       "      <td>like</td>\n",
       "      <td>Operational Challenges within the App</td>\n",
       "      <td>Neutral</td>\n",
       "      <td>No significant influential words</td>\n",
       "    </tr>\n",
       "    <tr>\n",
       "      <th>2</th>\n",
       "      <td>1d9285f6-3570-43b1-b649-dfbffa671471</td>\n",
       "      <td>Fenkl Massawa (fenkl)</td>\n",
       "      <td>https://play-lh.googleusercontent.com/a-/ALV-U...</td>\n",
       "      <td>0</td>\n",
       "      <td>23.10.24</td>\n",
       "      <td>2023-12-05 12:41:48</td>\n",
       "      <td>23.10.24</td>\n",
       "      <td>5</td>\n",
       "      <td>I like this app</td>\n",
       "      <td>like</td>\n",
       "      <td>Operational Challenges within the App</td>\n",
       "      <td>Neutral</td>\n",
       "      <td>No significant influential words</td>\n",
       "    </tr>\n",
       "    <tr>\n",
       "      <th>3</th>\n",
       "      <td>26a50719-d3b5-4703-a942-5640e04d824a</td>\n",
       "      <td>Mula Boad</td>\n",
       "      <td>https://play-lh.googleusercontent.com/a-/ALV-U...</td>\n",
       "      <td>0</td>\n",
       "      <td>23.10.24</td>\n",
       "      <td>2023-12-05 11:55:36</td>\n",
       "      <td>23.10.24</td>\n",
       "      <td>5</td>\n",
       "      <td>Litterally i am well exprienced in social medi...</td>\n",
       "      <td>NaN</td>\n",
       "      <td>Functional Issues and User Experience</td>\n",
       "      <td>Neutral</td>\n",
       "      <td>Influential words: social, new</td>\n",
       "    </tr>\n",
       "    <tr>\n",
       "      <th>4</th>\n",
       "      <td>4f2712f8-4b7f-45e7-8afb-90556692a6b5</td>\n",
       "      <td>yegna gojo</td>\n",
       "      <td>https://play-lh.googleusercontent.com/a-/ALV-U...</td>\n",
       "      <td>0</td>\n",
       "      <td>23.10.24</td>\n",
       "      <td>2023-12-04 06:47:48</td>\n",
       "      <td>23.10.24</td>\n",
       "      <td>5</td>\n",
       "      <td>Good</td>\n",
       "      <td>good</td>\n",
       "      <td>Positive Feedback</td>\n",
       "      <td>Positive</td>\n",
       "      <td>Influential words: Good</td>\n",
       "    </tr>\n",
       "  </tbody>\n",
       "</table>\n",
       "</div>"
      ],
      "text/plain": [
       "                               reviewId               userName  \\\n",
       "0  910fa3ea-29db-4e6d-972b-83a7ccf0b381          Abnet Hussien   \n",
       "1  1c92335c-20cf-4dc8-8108-40c5ca406669            Paul Flower   \n",
       "2  1d9285f6-3570-43b1-b649-dfbffa671471  Fenkl Massawa (fenkl)   \n",
       "3  26a50719-d3b5-4703-a942-5640e04d824a              Mula Boad   \n",
       "4  4f2712f8-4b7f-45e7-8afb-90556692a6b5             yegna gojo   \n",
       "\n",
       "                                           userImage  👍 reviewCreatedVersion  \\\n",
       "0  https://play-lh.googleusercontent.com/a-/ALV-U...  0             23.10.24   \n",
       "1  https://play-lh.googleusercontent.com/a-/ALV-U...  0                  NaN   \n",
       "2  https://play-lh.googleusercontent.com/a-/ALV-U...  0             23.10.24   \n",
       "3  https://play-lh.googleusercontent.com/a-/ALV-U...  0             23.10.24   \n",
       "4  https://play-lh.googleusercontent.com/a-/ALV-U...  0             23.10.24   \n",
       "\n",
       "                   at appVersion  score  \\\n",
       "0 2023-12-05 14:47:40   23.10.24      1   \n",
       "1 2023-12-05 13:45:23        NaN      4   \n",
       "2 2023-12-05 12:41:48   23.10.24      5   \n",
       "3 2023-12-05 11:55:36   23.10.24      5   \n",
       "4 2023-12-04 06:47:48   23.10.24      5   \n",
       "\n",
       "                                            Comments Keywords  \\\n",
       "0  it fails proceeding after sending OTP for regi...      otp   \n",
       "1  I like all features of this app but, airtime t...     like   \n",
       "2                                    I like this app     like   \n",
       "3  Litterally i am well exprienced in social medi...      NaN   \n",
       "4                                               Good     good   \n",
       "\n",
       "                            LDA_Category Sentiment  \\\n",
       "0      Account and Identification Issues  Negative   \n",
       "1  Operational Challenges within the App   Neutral   \n",
       "2  Operational Challenges within the App   Neutral   \n",
       "3  Functional Issues and User Experience   Neutral   \n",
       "4                      Positive Feedback  Positive   \n",
       "\n",
       "                            Insight  \n",
       "0          Influential words: fails  \n",
       "1  No significant influential words  \n",
       "2  No significant influential words  \n",
       "3    Influential words: social, new  \n",
       "4           Influential words: Good  "
      ]
     },
     "execution_count": 75,
     "metadata": {},
     "output_type": "execute_result"
    }
   ],
   "source": [
    "df1.head()"
   ]
  },
  {
   "cell_type": "code",
   "execution_count": 76,
   "id": "ba2c7633",
   "metadata": {},
   "outputs": [
    {
     "data": {
      "text/plain": [
       "reviewId                        object\n",
       "userName                        object\n",
       "userImage                       object\n",
       "👍                                int64\n",
       "reviewCreatedVersion            object\n",
       "at                      datetime64[ns]\n",
       "appVersion                      object\n",
       "score                            int64\n",
       "Comments                        object\n",
       "Keywords                        object\n",
       "LDA_Category                    object\n",
       "Sentiment                       object\n",
       "Insight                         object\n",
       "dtype: object"
      ]
     },
     "execution_count": 76,
     "metadata": {},
     "output_type": "execute_result"
    }
   ],
   "source": [
    "df1.dtypes"
   ]
  },
  {
   "cell_type": "code",
   "execution_count": 106,
   "id": "39a96ad9",
   "metadata": {},
   "outputs": [],
   "source": [
    "df1['reviewCreatedVersion'] = df1['reviewCreatedVersion'].fillna(df1['reviewCreatedVersion'].mode().iloc[0])\n",
    "df1['appVersion'] = df1['appVersion'].fillna(df1['appVersion'].mode().iloc[0])\n",
    "df1['Keywords'] = df1['Keywords'].fillna(df1['Keywords'].mode().iloc[0])"
   ]
  },
  {
   "cell_type": "code",
   "execution_count": 107,
   "id": "e464d6f7",
   "metadata": {},
   "outputs": [
    {
     "data": {
      "text/html": [
       "<div>\n",
       "<style scoped>\n",
       "    .dataframe tbody tr th:only-of-type {\n",
       "        vertical-align: middle;\n",
       "    }\n",
       "\n",
       "    .dataframe tbody tr th {\n",
       "        vertical-align: top;\n",
       "    }\n",
       "\n",
       "    .dataframe thead th {\n",
       "        text-align: right;\n",
       "    }\n",
       "</style>\n",
       "<table border=\"1\" class=\"dataframe\">\n",
       "  <thead>\n",
       "    <tr style=\"text-align: right;\">\n",
       "      <th></th>\n",
       "      <th>reviewId</th>\n",
       "      <th>userName</th>\n",
       "      <th>userImage</th>\n",
       "      <th>👍</th>\n",
       "      <th>reviewCreatedVersion</th>\n",
       "      <th>at</th>\n",
       "      <th>appVersion</th>\n",
       "      <th>score</th>\n",
       "      <th>Comments</th>\n",
       "      <th>Keywords</th>\n",
       "      <th>LDA_Category</th>\n",
       "      <th>Sentiment</th>\n",
       "      <th>Insight</th>\n",
       "    </tr>\n",
       "  </thead>\n",
       "  <tbody>\n",
       "    <tr>\n",
       "      <th>0</th>\n",
       "      <td>910fa3ea-29db-4e6d-972b-83a7ccf0b381</td>\n",
       "      <td>Abnet Hussien</td>\n",
       "      <td>https://play-lh.googleusercontent.com/a-/ALV-U...</td>\n",
       "      <td>0</td>\n",
       "      <td>23.10.24</td>\n",
       "      <td>2023-12-05 14:47:40</td>\n",
       "      <td>23.10.24</td>\n",
       "      <td>1</td>\n",
       "      <td>it fails proceeding after sending OTP for regi...</td>\n",
       "      <td>otp</td>\n",
       "      <td>Account and Identification Issues</td>\n",
       "      <td>Negative</td>\n",
       "      <td>Influential words: fails</td>\n",
       "    </tr>\n",
       "    <tr>\n",
       "      <th>1</th>\n",
       "      <td>1c92335c-20cf-4dc8-8108-40c5ca406669</td>\n",
       "      <td>Paul Flower</td>\n",
       "      <td>https://play-lh.googleusercontent.com/a-/ALV-U...</td>\n",
       "      <td>0</td>\n",
       "      <td>23.10.24</td>\n",
       "      <td>2023-12-05 13:45:23</td>\n",
       "      <td>23.10.24</td>\n",
       "      <td>4</td>\n",
       "      <td>I like all features of this app but, airtime t...</td>\n",
       "      <td>like</td>\n",
       "      <td>Operational Challenges within the App</td>\n",
       "      <td>Neutral</td>\n",
       "      <td>No significant influential words</td>\n",
       "    </tr>\n",
       "    <tr>\n",
       "      <th>2</th>\n",
       "      <td>1d9285f6-3570-43b1-b649-dfbffa671471</td>\n",
       "      <td>Fenkl Massawa (fenkl)</td>\n",
       "      <td>https://play-lh.googleusercontent.com/a-/ALV-U...</td>\n",
       "      <td>0</td>\n",
       "      <td>23.10.24</td>\n",
       "      <td>2023-12-05 12:41:48</td>\n",
       "      <td>23.10.24</td>\n",
       "      <td>5</td>\n",
       "      <td>I like this app</td>\n",
       "      <td>like</td>\n",
       "      <td>Operational Challenges within the App</td>\n",
       "      <td>Neutral</td>\n",
       "      <td>No significant influential words</td>\n",
       "    </tr>\n",
       "    <tr>\n",
       "      <th>3</th>\n",
       "      <td>26a50719-d3b5-4703-a942-5640e04d824a</td>\n",
       "      <td>Mula Boad</td>\n",
       "      <td>https://play-lh.googleusercontent.com/a-/ALV-U...</td>\n",
       "      <td>0</td>\n",
       "      <td>23.10.24</td>\n",
       "      <td>2023-12-05 11:55:36</td>\n",
       "      <td>23.10.24</td>\n",
       "      <td>5</td>\n",
       "      <td>Litterally i am well exprienced in social medi...</td>\n",
       "      <td>good</td>\n",
       "      <td>Functional Issues and User Experience</td>\n",
       "      <td>Neutral</td>\n",
       "      <td>Influential words: social, new</td>\n",
       "    </tr>\n",
       "    <tr>\n",
       "      <th>4</th>\n",
       "      <td>4f2712f8-4b7f-45e7-8afb-90556692a6b5</td>\n",
       "      <td>yegna gojo</td>\n",
       "      <td>https://play-lh.googleusercontent.com/a-/ALV-U...</td>\n",
       "      <td>0</td>\n",
       "      <td>23.10.24</td>\n",
       "      <td>2023-12-04 06:47:48</td>\n",
       "      <td>23.10.24</td>\n",
       "      <td>5</td>\n",
       "      <td>Good</td>\n",
       "      <td>good</td>\n",
       "      <td>Positive Feedback</td>\n",
       "      <td>Positive</td>\n",
       "      <td>Influential words: Good</td>\n",
       "    </tr>\n",
       "  </tbody>\n",
       "</table>\n",
       "</div>"
      ],
      "text/plain": [
       "                               reviewId               userName  \\\n",
       "0  910fa3ea-29db-4e6d-972b-83a7ccf0b381          Abnet Hussien   \n",
       "1  1c92335c-20cf-4dc8-8108-40c5ca406669            Paul Flower   \n",
       "2  1d9285f6-3570-43b1-b649-dfbffa671471  Fenkl Massawa (fenkl)   \n",
       "3  26a50719-d3b5-4703-a942-5640e04d824a              Mula Boad   \n",
       "4  4f2712f8-4b7f-45e7-8afb-90556692a6b5             yegna gojo   \n",
       "\n",
       "                                           userImage  👍 reviewCreatedVersion  \\\n",
       "0  https://play-lh.googleusercontent.com/a-/ALV-U...  0             23.10.24   \n",
       "1  https://play-lh.googleusercontent.com/a-/ALV-U...  0             23.10.24   \n",
       "2  https://play-lh.googleusercontent.com/a-/ALV-U...  0             23.10.24   \n",
       "3  https://play-lh.googleusercontent.com/a-/ALV-U...  0             23.10.24   \n",
       "4  https://play-lh.googleusercontent.com/a-/ALV-U...  0             23.10.24   \n",
       "\n",
       "                   at appVersion  score  \\\n",
       "0 2023-12-05 14:47:40   23.10.24      1   \n",
       "1 2023-12-05 13:45:23   23.10.24      4   \n",
       "2 2023-12-05 12:41:48   23.10.24      5   \n",
       "3 2023-12-05 11:55:36   23.10.24      5   \n",
       "4 2023-12-04 06:47:48   23.10.24      5   \n",
       "\n",
       "                                            Comments Keywords  \\\n",
       "0  it fails proceeding after sending OTP for regi...      otp   \n",
       "1  I like all features of this app but, airtime t...     like   \n",
       "2                                    I like this app     like   \n",
       "3  Litterally i am well exprienced in social medi...     good   \n",
       "4                                               Good     good   \n",
       "\n",
       "                            LDA_Category Sentiment  \\\n",
       "0      Account and Identification Issues  Negative   \n",
       "1  Operational Challenges within the App   Neutral   \n",
       "2  Operational Challenges within the App   Neutral   \n",
       "3  Functional Issues and User Experience   Neutral   \n",
       "4                      Positive Feedback  Positive   \n",
       "\n",
       "                            Insight  \n",
       "0          Influential words: fails  \n",
       "1  No significant influential words  \n",
       "2  No significant influential words  \n",
       "3    Influential words: social, new  \n",
       "4           Influential words: Good  "
      ]
     },
     "execution_count": 107,
     "metadata": {},
     "output_type": "execute_result"
    }
   ],
   "source": [
    "df1.head()"
   ]
  },
  {
   "cell_type": "code",
   "execution_count": 108,
   "id": "5c35dcff",
   "metadata": {},
   "outputs": [
    {
     "name": "stderr",
     "output_type": "stream",
     "text": [
      "C:\\Users\\Abdilfatah\\anaconda3\\Lib\\site-packages\\seaborn\\_oldcore.py:1119: FutureWarning: use_inf_as_na option is deprecated and will be removed in a future version. Convert inf values to NaN before operating instead.\n",
      "  with pd.option_context('mode.use_inf_as_na', True):\n"
     ]
    },
    {
     "data": {
      "text/plain": [
       "<Axes: xlabel='reviewCreatedVersion', ylabel='Count'>"
      ]
     },
     "execution_count": 108,
     "metadata": {},
     "output_type": "execute_result"
    },
    {
     "data": {
      "image/png": "[encoded data removed]",
      "text/plain": [
       "<Figure size 1100x400 with 1 Axes>"
      ]
     },
     "metadata": {},
     "output_type": "display_data"
    }
   ],
   "source": [
    "sns.histplot(df1['reviewCreatedVersion'])"
   ]
  },
  {
   "cell_type": "code",
   "execution_count": 109,
   "id": "03c0c9db",
   "metadata": {},
   "outputs": [
    {
     "name": "stderr",
     "output_type": "stream",
     "text": [
      "C:\\Users\\Abdilfatah\\anaconda3\\Lib\\site-packages\\seaborn\\_oldcore.py:1119: FutureWarning: use_inf_as_na option is deprecated and will be removed in a future version. Convert inf values to NaN before operating instead.\n",
      "  with pd.option_context('mode.use_inf_as_na', True):\n"
     ]
    },
    {
     "data": {
      "text/plain": [
       "<Axes: xlabel='score', ylabel='Count'>"
      ]
     },
     "execution_count": 109,
     "metadata": {},
     "output_type": "execute_result"
    },
    {
     "data": {
      "image/png": "[encoded data removed]",
      "text/plain": [
       "<Figure size 1100x400 with 1 Axes>"
      ]
     },
     "metadata": {},
     "output_type": "display_data"
    }
   ],
   "source": [
    "sns.histplot(df1['score'])"
   ]
  },
  {
   "cell_type": "code",
   "execution_count": 110,
   "id": "7a2efe38",
   "metadata": {},
   "outputs": [
    {
     "data": {
      "text/plain": [
       "score  reviewCreatedVersion\n",
       "1      23.10.24                18\n",
       "       23.09.23                 5\n",
       "       23.03.03                 1\n",
       "       23.10.18                 1\n",
       "2      23.10.24                 5\n",
       "       23.09.23                 3\n",
       "3      23.10.24                 4\n",
       "       23.09.23                 2\n",
       "       23.08.03                 1\n",
       "4      23.10.24                 6\n",
       "       23.09.23                 2\n",
       "       23.01.16                 1\n",
       "5      23.10.24                38\n",
       "       23.09.23                 9\n",
       "       23.08.03                 3\n",
       "       23.03.03                 1\n",
       "Name: count, dtype: int64"
      ]
     },
     "execution_count": 110,
     "metadata": {},
     "output_type": "execute_result"
    }
   ],
   "source": [
    "df1.groupby(\"score\")[\"reviewCreatedVersion\"].value_counts()"
   ]
  },
  {
   "cell_type": "code",
   "execution_count": null,
   "id": "7c4105be",
   "metadata": {},
   "outputs": [],
   "source": [
    "# Checking correlation between the two datasets"
   ]
  },
  {
   "cell_type": "code",
   "execution_count": 112,
   "id": "223dc68c",
   "metadata": {},
   "outputs": [
    {
     "name": "stdout",
     "output_type": "stream",
     "text": [
      "0.6662322820158476\n"
     ]
    }
   ],
   "source": [
    "combined_df = pd.concat([df['Date'], df1['at']], axis=1)\n",
    "correlation = combined_df.corr().iloc[0, 1]\n",
    "print(correlation)"
   ]
  },
  {
   "cell_type": "code",
   "execution_count": 113,
   "id": "5425126b",
   "metadata": {},
   "outputs": [
    {
     "data": {
      "image/png": "[encoded data removed]",
      "text/plain": [
       "<Figure size 600x400 with 1 Axes>"
      ]
     },
     "metadata": {},
     "output_type": "display_data"
    }
   ],
   "source": [
    "plt.figure(figsize=(6, 4))\n",
    "sns.heatmap([[correlation]], annot=True, cmap='coolwarm', cbar=False)\n",
    "plt.title(\"Correlation Heatmap\")\n",
    "plt.xticks([])  # Hide x-axis labels\n",
    "plt.yticks([])  # Hide y-axis labels\n",
    "plt.show()"
   ]
  },
  {
   "cell_type": "code",
   "execution_count": null,
   "id": "2c151304",
   "metadata": {},
   "outputs": [],
   "source": []
  }
 ],
 "metadata": {
  "kernelspec": {
   "display_name": "Python 3 (ipykernel)",
   "language": "python",
   "name": "python3"
  },
  "language_info": {
   "codemirror_mode": {
    "name": "ipython",
    "version": 3
   },
   "file_extension": ".py",
   "mimetype": "text/x-python",
   "name": "python",
   "nbconvert_exporter": "python",
   "pygments_lexer": "ipython3",
   "version": "3.11.7"
  }
 },
 "nbformat": 4,
 "nbformat_minor": 5
}
